{
  "nbformat": 4,
  "nbformat_minor": 0,
  "metadata": {
    "colab": {
      "name": "OOP Concepts 2.ipynb",
      "provenance": [],
      "authorship_tag": "ABX9TyNgU8Zttf/S3lYq4aonpmT9",
      "include_colab_link": true
    },
    "kernelspec": {
      "name": "python3",
      "display_name": "Python 3"
    },
    "language_info": {
      "name": "python"
    }
  },
  "cells": [
    {
      "cell_type": "markdown",
      "metadata": {
        "id": "view-in-github",
        "colab_type": "text"
      },
      "source": [
        "<a href=\"https://colab.research.google.com/github/markhanjin/OOP-1-2/blob/main/OOP_Concepts_2.ipynb\" target=\"_parent\"><img src=\"https://colab.research.google.com/assets/colab-badge.svg\" alt=\"Open In Colab\"/></a>"
      ]
    },
    {
      "cell_type": "markdown",
      "source": [
        "1. Create a Python program that displays the name of three students (Student 1,\n",
        "Student 2, and Student 3) and their term grades\n",
        "2. Create a class name Person and attributes – std1, std2, std2, pre, mid, fin\n",
        "3. Compute the average of each term grade using Grade() method\n",
        "4. Information about student’s grades must be hidden from others\n",
        "5. Save your python program named as “OOP Concepts 2” to your GitHub\n",
        "repository “OOP 1-2”\n",
        "6. Share your GitHub link attached with this manuscript."
      ],
      "metadata": {
        "id": "eUL8nEJBhH88"
      }
    },
    {
      "cell_type": "code",
      "source": [
        "class Person:\n",
        "  def __init__(self, name, prelim, midterm, final):\n",
        "    self.__name = name\n",
        "    self.__prelim = prelim\n",
        "    self.__midterm = midterm\n",
        "    self.__final = final\n",
        "\n",
        "  def grade(self):\n",
        "    return (round(self.__prelim + self.__midterm + self.__final)/3)\n",
        "\n",
        "  def show(self):\n",
        "    self.ave()\n",
        "    if self.grade >= 75:\n",
        "      self.remarks=\"Passed\"\n",
        "    else:\n",
        "      self.remarks=\"Failed\"\n",
        "    print(\"Average:{} ({})\".format(round(self.grade,0),self.remarks))\n",
        "\n",
        "print()\n",
        "print(\"Student 1 Grade: \")\n",
        "print()\n",
        "name1=str(input(\"Name: \"))\n",
        "prelim1=float(input(\"Prelim: \"))\n",
        "midterm1=float(input(\"Midterm: \"))\n",
        "final1=float(input(\"Final: \"))\n",
        "\n",
        "std1=Person(name1, prelim1, midterm1, final1)\n",
        "print(\"\\n\")\n",
        "\n",
        "print()\n",
        "print(\"Student 2 Grade: \")\n",
        "print()\n",
        "name2=str(input(\"Name: \"))\n",
        "prelim2=float(input(\"Prelim: \"))\n",
        "midterm2=float(input(\"Midterm: \"))\n",
        "final2=float(input(\"Final: \"))\n",
        "\n",
        "std2=Person(name2, prelim2, midterm2, final2)\n",
        "print(\"/n\")\n",
        "\n",
        "print()\n",
        "print(\"Student 3 Grade: \")\n",
        "print()\n",
        "name3=str(input(\"Name: \"))\n",
        "prelim3=float(input(\"Prelim: \"))\n",
        "midterm3=float(input(\"Midterm: \"))\n",
        "final3=float(input(\"Final: \"))\n",
        "\n",
        "std3=Person(name3, prelim3, midterm3, final3)\n",
        "print(\"/n\")\n",
        "\n",
        "name = str(input(\"Enter Your Name:\"))\n",
        "if name == (name1):\n",
        "  print(\"\\n\", \"Grade: \", round(std1.grade(),2))\n",
        "else: \n",
        "  if name == (name2):\n",
        "    print(\"\\n\", \"Grade: \", round(std2.grade(),2))\n",
        "  else:\n",
        "    if name == (name3):\n",
        "      print(\"\\n\", \"Grade: \", round(std3.grade(),2))\n",
        "    else:\n",
        "      if name == \"all\":\n",
        "        print(\"Name: \", name1, \"Grade: \", round(std1.grade(),2), \"\\n\", \n",
        "              \"Name: \", name2, \"Grade: \", round(std2.grade(),2), \"\\n\",\n",
        "              \"Name: \", name3, \"Grade: \", round(std3.grade(),2), \"\\n\")\n",
        "      else:\n",
        "        print(\"Student Info Unavailable\")"
      ],
      "metadata": {
        "colab": {
          "base_uri": "https://localhost:8080/"
        },
        "id": "uao19tKZxT8W",
        "outputId": "f573233f-fad3-408f-dc32-33ed002ecbf8"
      },
      "execution_count": 45,
      "outputs": [
        {
          "output_type": "stream",
          "name": "stdout",
          "text": [
            "\n",
            "Student 1 Grade: \n",
            "\n",
            "Name: Hanjin\n",
            "Prelim: 88\n",
            "Midterm: 89\n",
            "Final: 86\n",
            "\n",
            "\n",
            "\n",
            "Student 2 Grade: \n",
            "\n",
            "Name: Clint\n",
            "Prelim: 85\n",
            "Midterm: 87\n",
            "Final: 82\n",
            "/n\n",
            "\n",
            "Student 3 Grade: \n",
            "\n",
            "Name: Lennard\n",
            "Prelim: 87\n",
            "Midterm: 88\n",
            "Final: 92\n",
            "/n\n",
            "Enter Your Name:Hanjin\n",
            "\n",
            " Grade:  87.67\n"
          ]
        }
      ]
    }
  ]
}