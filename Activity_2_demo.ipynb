{
  "nbformat": 4,
  "nbformat_minor": 0,
  "metadata": {
    "colab": {
      "name": "Activity 2 demo.ipynb",
      "provenance": [],
      "authorship_tag": "ABX9TyNkvkOR4Ip7hmwKWx9AFKfN",
      "include_colab_link": true
    },
    "kernelspec": {
      "name": "python3",
      "display_name": "Python 3"
    },
    "language_info": {
      "name": "python"
    }
  },
  "cells": [
    {
      "cell_type": "markdown",
      "metadata": {
        "id": "view-in-github",
        "colab_type": "text"
      },
      "source": [
        "<a href=\"https://colab.research.google.com/github/markhanjin/OOP-1-2/blob/main/Activity_2_demo.ipynb\" target=\"_parent\"><img src=\"https://colab.research.google.com/assets/colab-badge.svg\" alt=\"Open In Colab\"/></a>"
      ]
    },
    {
      "cell_type": "markdown",
      "source": [
        "##Write a python program that converts the temperature Celsius to Fahrenheit. Create a class name Temperature.\n",
        "##Create Celsius as attribute name, Temp() as method, and temp1 as object name. F= 1.8xC + 32\n"
      ],
      "metadata": {
        "id": "z9cRI1eXXdHh"
      }
    },
    {
      "cell_type": "code",
      "source": [
        "class Temperature:\n",
        "  def __init__(self,Celsius):\n",
        "    self.Celsius = Celsius\n",
        "\n",
        "  def Temp(self):\n",
        "    result = float((1.8 * self.Celsius)+32)\n",
        "    return result\n",
        "\n",
        "input_temp = float(input(\"Input temperature in celsius: \"))\n",
        "temp1 = Temperature(input_temp)\n",
        "print(round(temp1.Temp()))"
      ],
      "metadata": {
        "colab": {
          "base_uri": "https://localhost:8080/"
        },
        "id": "J0st__zSYiBG",
        "outputId": "b16a84a3-1592-4629-f67f-d231dd7258d0"
      },
      "execution_count": null,
      "outputs": [
        {
          "output_type": "stream",
          "name": "stdout",
          "text": [
            "Input temperature in celsius: 30\n",
            "86\n"
          ]
        }
      ]
    }
  ]
}