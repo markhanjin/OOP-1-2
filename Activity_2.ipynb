{
  "nbformat": 4,
  "nbformat_minor": 0,
  "metadata": {
    "colab": {
      "name": "Activity 2.ipynb",
      "provenance": [],
      "authorship_tag": "ABX9TyOmxZBYGbUruhLqaykerBGF",
      "include_colab_link": true
    },
    "kernelspec": {
      "name": "python3",
      "display_name": "Python 3"
    },
    "language_info": {
      "name": "python"
    }
  },
  "cells": [
    {
      "cell_type": "markdown",
      "metadata": {
        "id": "view-in-github",
        "colab_type": "text"
      },
      "source": [
        "<a href=\"https://colab.research.google.com/github/markhanjin/OOP-1-2/blob/main/Activity_2.ipynb\" target=\"_parent\"><img src=\"https://colab.research.google.com/assets/colab-badge.svg\" alt=\"Open In Colab\"/></a>"
      ]
    },
    {
      "cell_type": "markdown",
      "source": [
        "##1.) Define an Area() method of the class that calculates the circle’s area."
      ],
      "metadata": {
        "id": "ktcvw269cPVG"
      }
    },
    {
      "cell_type": "markdown",
      "source": [
        "Radius as attribute name, circlearea() as method, radius1 as object name.\n",
        "A=(3.14*(r * r))"
      ],
      "metadata": {
        "id": "j5d0msGUdhRB"
      }
    },
    {
      "cell_type": "code",
      "source": [
        "class AreaofCircle:\n",
        "  def __init__(self,radius):\n",
        "    self.radius = radius\n",
        "  \n",
        "  def circlearea(self):\n",
        "    result = float((self.radius * self.radius)*3.14)\n",
        "    return result\n",
        "\n",
        "input_radius = float(input(\"Input radius in cm: \"))\n",
        "radius1 = Area(input_radius)\n",
        "print(round(radius1.circlearea()))"
      ],
      "metadata": {
        "colab": {
          "base_uri": "https://localhost:8080/"
        },
        "id": "sNLsapg5cuPq",
        "outputId": "b45affbf-e04d-488a-f627-8ab43094484a"
      },
      "execution_count": 23,
      "outputs": [
        {
          "output_type": "stream",
          "name": "stdout",
          "text": [
            "Input radius in cm: 4\n",
            "50\n"
          ]
        }
      ]
    },
    {
      "cell_type": "markdown",
      "source": [
        "##2.) Define a Perimeter() method of the class which allows you to calculate the perimeter of the circle."
      ],
      "metadata": {
        "id": "AHM_hHz6iLTo"
      }
    },
    {
      "cell_type": "markdown",
      "source": [
        "perimeter as attribute name, per() as method, per1 as object name. "
      ],
      "metadata": {
        "id": "JhG-lyQskZax"
      }
    },
    {
      "cell_type": "code",
      "source": [
        "class PerimeterofCircle:\n",
        "  def __init__(self,diameter):\n",
        "    self.diameter = diameter\n",
        "  \n",
        "  def per(self):\n",
        "    result = float(3.14 * self.diameter)\n",
        "    return result\n",
        "\n",
        "input_perimeter = float(input(\"Input diameter in cm: \"))\n",
        "per1 = PerimeterofCircle(input_perimeter)\n",
        "print(round(per1.per()))"
      ],
      "metadata": {
        "colab": {
          "base_uri": "https://localhost:8080/"
        },
        "id": "lyF7AgBrjTVR",
        "outputId": "5a28e3f0-0608-43c4-dabc-480be457b598"
      },
      "execution_count": 24,
      "outputs": [
        {
          "output_type": "stream",
          "name": "stdout",
          "text": [
            "Input diameter in cm: 8\n",
            "25\n"
          ]
        }
      ]
    }
  ]
}