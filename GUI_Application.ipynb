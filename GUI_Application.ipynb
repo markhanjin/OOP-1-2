{
  "nbformat": 4,
  "nbformat_minor": 0,
  "metadata": {
    "colab": {
      "name": "GUI Application.ipynb",
      "provenance": [],
      "authorship_tag": "ABX9TyOT9kmiBRG1AxL+nCnJRKUs",
      "include_colab_link": true
    },
    "kernelspec": {
      "name": "python3",
      "display_name": "Python 3"
    },
    "language_info": {
      "name": "python"
    }
  },
  "cells": [
    {
      "cell_type": "markdown",
      "metadata": {
        "id": "view-in-github",
        "colab_type": "text"
      },
      "source": [
        "<a href=\"https://colab.research.google.com/github/markhanjin/OOP-1-2/blob/main/GUI_Application.ipynb\" target=\"_parent\"><img src=\"https://colab.research.google.com/assets/colab-badge.svg\" alt=\"Open In Colab\"/></a>"
      ]
    },
    {
      "cell_type": "code",
      "source": [
        "#@title Students Grade in OOP\n",
        "\n",
        "Student_Name1 = \"Mark Hanjin Valenzuela\" #@param{type: \"string\"}\n",
        "prelim = 87 #@param{type: \"number\"}\n",
        "midterm = 91#@param{type: \"number\"}\n",
        "final = 97#@param{type: \"number\"}\n",
        "semestral_grade = (prelim+midterm+final)/3\n",
        "\n",
        "print(\"The prelim grade of student 1 is \"+str(prelim))\n",
        "print(\"The midterm grade of student 1 is \"+str(midterm))\n",
        "print(\"The final grade of student 1 is \"+str(final))\n",
        "print(\"The semestral grade of student 1 is \"+str(semestral_grade))\n",
        "\n",
        "Gender = \"Male\"#@param[\"Male\",\"Female\"]\n",
        "print(\"His Gender is \"+str(Gender))\n",
        "print(Gender)\n",
        "\n",
        "Birthdate = '2022-05-02'#@param{type: \"date\"}"
      ],
      "metadata": {
        "colab": {
          "base_uri": "https://localhost:8080/"
        },
        "id": "56MZxcosuwx3",
        "outputId": "d80238bb-63d0-45ec-e734-5bb5caf8f5c7"
      },
      "execution_count": 11,
      "outputs": [
        {
          "output_type": "stream",
          "name": "stdout",
          "text": [
            "The prelim grade of student 1 is 87\n",
            "The midterm grade of student 1 is 91\n",
            "The final grade of student 1 is 97\n",
            "The semestral grade of student 1 is 91.66666666666667\n",
            "His Gender is Male\n",
            "Male\n"
          ]
        }
      ]
    }
  ]
}