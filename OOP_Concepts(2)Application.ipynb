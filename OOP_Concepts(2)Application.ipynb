{
  "nbformat": 4,
  "nbformat_minor": 0,
  "metadata": {
    "colab": {
      "name": "OOP-Concepts(2)Application.ipynb",
      "provenance": [],
      "authorship_tag": "ABX9TyNd+GqMZMRSjusAn7bxkCk6",
      "include_colab_link": true
    },
    "kernelspec": {
      "name": "python3",
      "display_name": "Python 3"
    },
    "language_info": {
      "name": "python"
    }
  },
  "cells": [
    {
      "cell_type": "markdown",
      "metadata": {
        "id": "view-in-github",
        "colab_type": "text"
      },
      "source": [
        "<a href=\"https://colab.research.google.com/github/markhanjin/OOP-1-2/blob/main/OOP_Concepts(2)Application.ipynb\" target=\"_parent\"><img src=\"https://colab.research.google.com/assets/colab-badge.svg\" alt=\"Open In Colab\"/></a>"
      ]
    },
    {
      "cell_type": "markdown",
      "source": [
        "##Application 1\n",
        "\n",
        "1.Create a Python program that displays the name of three students (Students 1,Student 2, and Student 3) and their term grades.\n",
        "\n",
        "2.Create a class name Person and attributes - std1, std2, std3, pre, mid, fin\n",
        "\n",
        "3.Compute the average of each term grade using Grade() method.\n",
        "\n",
        "4.Information about student's grades must be hidden from others\n"
      ],
      "metadata": {
        "id": "PjhZoTyyXo4Z"
      }
    },
    {
      "cell_type": "code",
      "source": [
        "class Person:\n",
        "  def __init__(self, fullname, prelim, midterm, final):\n",
        "    self.fullname=fullname\n",
        "    self.pre=prelim\n",
        "    self.mid=midterm\n",
        "    self.fin=final\n",
        "\n",
        "  def ave(self):\n",
        "    self.average=(self.pre+self.mid+self.fin)/3\n",
        "\n",
        "  def show(self):\n",
        "    self.ave()\n",
        "    if self.average >= 75:\n",
        "      self.remarks=\"Passed\"\n",
        "    else:\n",
        "      self.remarks=\"Failed\"\n",
        "    print(\"Average:{} ({})\".format(round(self.average,0),self.remarks))\n",
        "\n",
        "print()\n",
        "print(\"Student 1 Grade and Average: \")\n",
        "print()\n",
        "fullname=str(input(\"Name: \"))\n",
        "prelim=float(input(\"Prelim: \"))\n",
        "midterm=float(input(\"Midterm: \"))\n",
        "final=float(input(\"Final: \"))\n",
        "\n",
        "std1=Person(fullname,prelim,midterm,final)\n",
        "std1.show()\n",
        "print(\"\\n\")\n",
        "\n",
        "print(\"Student 2 Grade and Average: \")\n",
        "print()\n",
        "fullname=str(input(\"Name: \"))\n",
        "prelim=float(input(\"Prelim: \"))\n",
        "midterm=float(input(\"Midterm: \"))\n",
        "final=float(input(\"Final: \"))\n",
        "\n",
        "st2=Person(fullname,prelim,midterm,final)\n",
        "st2.show()\n",
        "print(\"\\n\")\n",
        "\n",
        "print(\"Student 3 Grade and Average: \")\n",
        "print()\n",
        "fullname=str(input(\"Name: \"))\n",
        "prelim=float(input(\"Prelim: \"))\n",
        "midterm=float(input(\"Midterm: \"))\n",
        "final=float(input(\"Final: \"))\n",
        "\n",
        "std3=Person(fullname,prelim,midterm,final)\n",
        "std3.show()\\"
      ],
      "metadata": {
        "colab": {
          "base_uri": "https://localhost:8080/"
        },
        "id": "IT3MvYHEXuk8",
        "outputId": "0f1fad01-a341-45ef-c844-918816eba947"
      },
      "execution_count": 5,
      "outputs": [
        {
          "output_type": "stream",
          "name": "stdout",
          "text": [
            "\n",
            "Student 1 Grade and Average: \n",
            "\n",
            "Name: Hanjin\n",
            "Prelim: 67\n",
            "Midterm: 76\n",
            "Final: 85\n",
            "Average:76.0 (Passed)\n",
            "\n",
            "\n",
            "Student 2 Grade and Average: \n",
            "\n",
            "Name: Clint\n",
            "Prelim: 85\n",
            "Midterm: 74\n",
            "Final: 69\n",
            "Average:76.0 (Passed)\n",
            "\n",
            "\n",
            "Student 3 Grade and Average: \n",
            "\n",
            "Name: Lennard\n",
            "Prelim: 86\n",
            "Midterm: 74\n",
            "Final: 75\n",
            "Average:78.0 (Passed)\n"
          ]
        }
      ]
    },
    {
      "cell_type": "code",
      "source": [
        ""
      ],
      "metadata": {
        "id": "oAKJwAm-Yrei"
      },
      "execution_count": null,
      "outputs": []
    }
  ]
}