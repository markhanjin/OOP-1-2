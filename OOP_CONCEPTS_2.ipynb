{
  "nbformat": 4,
  "nbformat_minor": 0,
  "metadata": {
    "colab": {
      "name": "OOP CONCEPTS 2.ipynb",
      "provenance": [],
      "authorship_tag": "ABX9TyOgc7eWEWQ6IQi7rsQGrvMT",
      "include_colab_link": true
    },
    "kernelspec": {
      "name": "python3",
      "display_name": "Python 3"
    },
    "language_info": {
      "name": "python"
    }
  },
  "cells": [
    {
      "cell_type": "markdown",
      "metadata": {
        "id": "view-in-github",
        "colab_type": "text"
      },
      "source": [
        "<a href=\"https://colab.research.google.com/github/markhanjin/OOP-1-2/blob/main/OOP_CONCEPTS_2.ipynb\" target=\"_parent\"><img src=\"https://colab.research.google.com/assets/colab-badge.svg\" alt=\"Open In Colab\"/></a>"
      ]
    },
    {
      "cell_type": "markdown",
      "source": [
        "1. Create a Python program that displays the name of three students (Student 1,\n",
        "Student 2, and Student 3) and their term grades\n",
        "2. Create a class name Person and attributes – std1, std2, std2, pre, mid, fin\n",
        "3. Compute the average of each term grade using Grade() method\n",
        "4. Information about student’s grades must be hidden from others\n",
        "5. Save your python program named as “OOP Concepts 2” to your GitHub\n",
        "repository “OOP 1-2”\n",
        "6. Share your GitHub link attached with this manuscript."
      ],
      "metadata": {
        "id": "j18TX9Q-yNfT"
      }
    },
    {
      "cell_type": "code",
      "source": [
        "class data:\n",
        "  def __init__(self,name,prelim,midterm,final):\n",
        "   self.__name = name\n",
        "   self.__prelim = prelim\n",
        "   self.__midterm = midterm\n",
        "   self.__final = final\n",
        "\n",
        "  def printname(self):\n",
        "    print(self.__name)\n",
        "  def Grade(self):\n",
        "    return (round(self.__prelim + self.__midterm + self.__final)/3)\n",
        "\n",
        "class stud1(data):\n",
        "  pass\n",
        "  \n",
        "fname_input1 = str(input(\"Enter Your Name: \"))\n",
        "prelims_input1 = float(input(\"Prelims:\"))\n",
        "midterms_input1 = float(input(\"Midterm:\"))\n",
        "finals_input1 = float(input(\"Finals:\"))\n",
        "\n",
        "student1 = stud1(fname_input1,prelims_input1, midterms_input1, finals_input1)\n",
        "print(\"\\n\")\n",
        "\n",
        "\n",
        "class stud2(data):\n",
        "  pass\n",
        "  \n",
        "fname_input2 = str(input(\"Enter Your Name: \"))\n",
        "prelims_input2 = float(input(\"Prelims:\"))\n",
        "midterms_input2 = float(input(\"Midterm:\"))\n",
        "finals_input2 = float(input(\"Finals:\"))\n",
        "\n",
        "student2 = stud2(fname_input2, prelims_input2, midterms_input2, finals_input2)\n",
        "print(\"\\n\")\n",
        "\n",
        "\n",
        "class stud3(data):\n",
        "  pass\n",
        " \n",
        "fname_input3 = str(input(\"Enter Your Name: \"))\n",
        "prelims_input3 = float(input(\"Prelims:\"))\n",
        "midterms_input3 = float(input(\"Midterm:\"))\n",
        "finals_input3 = float(input(\"Finals:\"))\n",
        "\n",
        "student3 = stud3(fname_input3,prelims_input3, midterms_input3, finals_input3)\n",
        "print(\"\\n\")\n",
        "\n",
        "\n",
        "name = str(input(\"Enter Your Name:\"))\n",
        "if name == (fname_input1):\n",
        "  print(\"\\n\", \"Grade: \", round(student1.Grade(),2))\n",
        "else: \n",
        "  if name == (fname_input2):\n",
        "    print(\"\\n\", \"Grade: \", round(student2.Grade(),2))\n",
        "  else:\n",
        "    if name == (fname_input3):\n",
        "      print(\"\\n\", \"Grade: \", round(student3.Grade(),2))\n",
        "    else:\n",
        "      if name == \"all\":\n",
        "        print(\"Name: \", fname_input1, \"Grade: \", round(student1.Grade(),2), \"\\n\", \n",
        "              \"Name: \", fname_input2, \"Grade: \", round(student2.Grade(),2), \"\\n\",\n",
        "              \"Name: \", fname_input3, \"Grade: \", round(student3.Grade(),2), \"\\n\")\n",
        "      else:\n",
        "        print(\"Student Info Unavailable\")"
      ],
      "metadata": {
        "colab": {
          "base_uri": "https://localhost:8080/"
        },
        "id": "UohmKePIZe_u",
        "outputId": "f3ac1957-2e20-468c-811b-1274daa3abb5"
      },
      "execution_count": 67,
      "outputs": [
        {
          "output_type": "stream",
          "name": "stdout",
          "text": [
            "Enter Your Name: Hanjin\n",
            "Prelims:78\n",
            "Midterm:80\n",
            "Finals:83\n",
            "\n",
            "\n",
            "Enter Your Name: Clint\n",
            "Prelims:87\n",
            "Midterm:76\n",
            "Finals:80\n",
            "\n",
            "\n",
            "Enter Your Name: Lennard\n",
            "Prelims:85\n",
            "Midterm:77\n",
            "Finals:89\n",
            "\n",
            "\n",
            "Enter Your Name:Hanjin\n",
            "\n",
            " Grade:  80.33\n"
          ]
        }
      ]
    }
  ]
}