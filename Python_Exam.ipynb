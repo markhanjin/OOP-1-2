{
  "nbformat": 4,
  "nbformat_minor": 0,
  "metadata": {
    "colab": {
      "name": "Python Exam.ipynb",
      "provenance": [],
      "authorship_tag": "ABX9TyNuwoxkdgiLIAEte/kJopbf",
      "include_colab_link": true
    },
    "kernelspec": {
      "name": "python3",
      "display_name": "Python 3"
    },
    "language_info": {
      "name": "python"
    }
  },
  "cells": [
    {
      "cell_type": "markdown",
      "metadata": {
        "id": "view-in-github",
        "colab_type": "text"
      },
      "source": [
        "<a href=\"https://colab.research.google.com/github/markhanjin/OOP-1-2/blob/main/Python_Exam.ipynb\" target=\"_parent\"><img src=\"https://colab.research.google.com/assets/colab-badge.svg\" alt=\"Open In Colab\"/></a>"
      ]
    },
    {
      "cell_type": "markdown",
      "source": [
        "##1.\tWrite a Python to display your full name, student number, age, and course\n",
        "##2.\tCreate a class named Student with attributes: Name, Student_No, Age, School, and Course\n",
        "##3.\tCreate an object name Myself and assign an instance for each attribute.\n",
        "##4.\tCreate a method Info() using an instantiation of a class.\n",
        "##5.\tInsert your GitHub link \"Prelim Exam\" from your repository named \"OOP 1-2\"\n"
      ],
      "metadata": {
        "id": "Lp9oguENiGPh"
      }
    },
    {
      "cell_type": "code",
      "source": [
        "class Student:\n",
        "  def __init__(self, Name, Student_no, Age, Course):\n",
        "    self.Name = Name\n",
        "    self.Student_no = Student_no\n",
        "    self.Age = Age\n",
        "    self.Course = Course\n",
        "\n",
        "  def Info(self):\n",
        "    print(self.Name, self.Student_no, self.Age, self.Course)\n",
        "\n",
        "Myself = Student(\"Mark Hanjin Valenzuela\", 202102001, 18, \"Bachelor of Science in Computer Engineering\")\n",
        "\n",
        "print(Myself.Name)\n",
        "print(Myself.Student_no)\n",
        "print(Myself.Age)\n",
        "print(Myself.Course)\n",
        "  \n",
        "\n"
      ],
      "metadata": {
        "colab": {
          "base_uri": "https://localhost:8080/"
        },
        "id": "v225dxvViHpU",
        "outputId": "b5a0b351-2c94-46c6-8420-56ccf33a000f"
      },
      "execution_count": 6,
      "outputs": [
        {
          "output_type": "stream",
          "name": "stdout",
          "text": [
            "Mark Hanjin Valenzuela\n",
            "202102001\n",
            "18\n",
            "Bachelor of Science in Computer Engineering\n"
          ]
        }
      ]
    }
  ]
}